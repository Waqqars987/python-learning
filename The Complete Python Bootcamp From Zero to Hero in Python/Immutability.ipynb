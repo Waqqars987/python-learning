{
 "cells": [
  {
   "cell_type": "code",
   "execution_count": 1,
   "id": "046699c5-83cb-4155-a3c4-6ce651635cbc",
   "metadata": {},
   "outputs": [],
   "source": [
    "name=\"Sam\""
   ]
  },
  {
   "cell_type": "code",
   "execution_count": 3,
   "id": "721c6ef8-7481-436e-8fbb-1ce73dfc0601",
   "metadata": {},
   "outputs": [
    {
     "ename": "TypeError",
     "evalue": "'str' object does not support item assignment",
     "output_type": "error",
     "traceback": [
      "\u001b[1;31m---------------------------------------------------------------------------\u001b[0m",
      "\u001b[1;31mTypeError\u001b[0m                                 Traceback (most recent call last)",
      "Cell \u001b[1;32mIn[3], line 1\u001b[0m\n\u001b[1;32m----> 1\u001b[0m name[\u001b[38;5;241m0\u001b[39m]\u001b[38;5;241m=\u001b[39m\u001b[38;5;124m'\u001b[39m\u001b[38;5;124mP\u001b[39m\u001b[38;5;124m'\u001b[39m\n",
      "\u001b[1;31mTypeError\u001b[0m: 'str' object does not support item assignment"
     ]
    }
   ],
   "source": [
    "# name[0]='P'"
   ]
  },
  {
   "cell_type": "code",
   "execution_count": 7,
   "id": "6ad110f3-e0aa-4b4f-a5d8-90a66501d6ac",
   "metadata": {},
   "outputs": [],
   "source": [
    "last_letters=name[1:]"
   ]
  },
  {
   "cell_type": "code",
   "execution_count": 9,
   "id": "4b867e97-35d5-4480-b24e-cb9b5e5b0c45",
   "metadata": {},
   "outputs": [
    {
     "data": {
      "text/plain": [
       "'am'"
      ]
     },
     "execution_count": 9,
     "metadata": {},
     "output_type": "execute_result"
    }
   ],
   "source": [
    "last_letters"
   ]
  },
  {
   "cell_type": "code",
   "execution_count": 11,
   "id": "d298e2fd-7d09-4390-aab9-0f0aaae4b016",
   "metadata": {},
   "outputs": [
    {
     "data": {
      "text/plain": [
       "'Pam'"
      ]
     },
     "execution_count": 11,
     "metadata": {},
     "output_type": "execute_result"
    }
   ],
   "source": [
    "\"P\"+last_letters"
   ]
  },
  {
   "cell_type": "code",
   "execution_count": 13,
   "id": "b97dd95f-a54d-4f5b-9c62-44b456c3aeae",
   "metadata": {},
   "outputs": [],
   "source": [
    "x=\"Hello World\""
   ]
  },
  {
   "cell_type": "code",
   "execution_count": 27,
   "id": "230c4afc-7f74-429d-8f3f-11ce34415448",
   "metadata": {},
   "outputs": [],
   "source": [
    "x=x+\" yolo\""
   ]
  },
  {
   "cell_type": "code",
   "execution_count": 29,
   "id": "45982415-837b-4f8f-83df-ef0338914bf1",
   "metadata": {},
   "outputs": [],
   "source": [
    "letter='z'"
   ]
  },
  {
   "cell_type": "code",
   "execution_count": 31,
   "id": "fa2d300e-bcfe-40dc-820b-d004b4ac425f",
   "metadata": {},
   "outputs": [
    {
     "data": {
      "text/plain": [
       "'zzzzzzzzzz'"
      ]
     },
     "execution_count": 31,
     "metadata": {},
     "output_type": "execute_result"
    }
   ],
   "source": [
    "letter*10"
   ]
  },
  {
   "cell_type": "code",
   "execution_count": 33,
   "id": "83c4947d-56f2-4183-8d77-4c517050e434",
   "metadata": {},
   "outputs": [
    {
     "data": {
      "text/plain": [
       "5"
      ]
     },
     "execution_count": 33,
     "metadata": {},
     "output_type": "execute_result"
    }
   ],
   "source": [
    "2+3"
   ]
  },
  {
   "cell_type": "code",
   "execution_count": 35,
   "id": "f0c07d71-13dd-4671-8838-8f8a5835bfca",
   "metadata": {},
   "outputs": [
    {
     "data": {
      "text/plain": [
       "'23'"
      ]
     },
     "execution_count": 35,
     "metadata": {},
     "output_type": "execute_result"
    }
   ],
   "source": [
    "'2'+'3'"
   ]
  },
  {
   "cell_type": "code",
   "execution_count": 37,
   "id": "e451adb2-bbcf-4c2a-abf9-7916e53b38cb",
   "metadata": {},
   "outputs": [],
   "source": [
    "x= 'hello world'"
   ]
  },
  {
   "cell_type": "code",
   "execution_count": 39,
   "id": "5d541e48-6c24-4c3e-9e52-c42a13aa4ce5",
   "metadata": {},
   "outputs": [
    {
     "data": {
      "text/plain": [
       "'hello world'"
      ]
     },
     "execution_count": 39,
     "metadata": {},
     "output_type": "execute_result"
    }
   ],
   "source": [
    "x"
   ]
  },
  {
   "cell_type": "code",
   "execution_count": 41,
   "id": "d2ac29e2-a1f7-48b7-a97b-8217fd98ed3f",
   "metadata": {},
   "outputs": [
    {
     "data": {
      "text/plain": [
       "'Hello world'"
      ]
     },
     "execution_count": 41,
     "metadata": {},
     "output_type": "execute_result"
    }
   ],
   "source": [
    "x.capitalize()"
   ]
  },
  {
   "cell_type": "code",
   "execution_count": 43,
   "id": "5452f040-f8e7-40ce-bef7-de3cebd2d781",
   "metadata": {},
   "outputs": [
    {
     "data": {
      "text/plain": [
       "'hello world'"
      ]
     },
     "execution_count": 43,
     "metadata": {},
     "output_type": "execute_result"
    }
   ],
   "source": [
    "x"
   ]
  },
  {
   "cell_type": "code",
   "execution_count": 45,
   "id": "419f2480-71c0-4463-876a-45c6ff01cecc",
   "metadata": {},
   "outputs": [
    {
     "data": {
      "text/plain": [
       "'HELLO WORLD'"
      ]
     },
     "execution_count": 45,
     "metadata": {},
     "output_type": "execute_result"
    }
   ],
   "source": [
    "x.upper()"
   ]
  },
  {
   "cell_type": "code",
   "execution_count": 47,
   "id": "0f3c3a1c-6773-4f26-852e-07773651dd6e",
   "metadata": {},
   "outputs": [
    {
     "data": {
      "text/plain": [
       "'hello world'"
      ]
     },
     "execution_count": 47,
     "metadata": {},
     "output_type": "execute_result"
    }
   ],
   "source": [
    "x"
   ]
  },
  {
   "cell_type": "code",
   "execution_count": 49,
   "id": "28046219-bc45-451f-ae93-281d23653385",
   "metadata": {},
   "outputs": [
    {
     "data": {
      "text/plain": [
       "'hello world'"
      ]
     },
     "execution_count": 49,
     "metadata": {},
     "output_type": "execute_result"
    }
   ],
   "source": [
    "x.lower()"
   ]
  },
  {
   "cell_type": "code",
   "execution_count": 51,
   "id": "7359a479-a0da-41f0-9357-c0cd56a76a56",
   "metadata": {},
   "outputs": [
    {
     "data": {
      "text/plain": [
       "['hello', 'world']"
      ]
     },
     "execution_count": 51,
     "metadata": {},
     "output_type": "execute_result"
    }
   ],
   "source": [
    "x.split()"
   ]
  },
  {
   "cell_type": "code",
   "execution_count": 53,
   "id": "b65442aa-1d88-4e5a-a985-345455213854",
   "metadata": {},
   "outputs": [],
   "source": [
    "x='Hi this is a sting'"
   ]
  },
  {
   "cell_type": "code",
   "execution_count": 55,
   "id": "5b7dd4f8-9fdc-43aa-bd51-5d69ca322b00",
   "metadata": {},
   "outputs": [
    {
     "data": {
      "text/plain": [
       "'Hi this is a sting'"
      ]
     },
     "execution_count": 55,
     "metadata": {},
     "output_type": "execute_result"
    }
   ],
   "source": [
    "x"
   ]
  },
  {
   "cell_type": "code",
   "execution_count": 57,
   "id": "1932a9ce-0369-4bca-a9fb-7a647c45834c",
   "metadata": {},
   "outputs": [
    {
     "data": {
      "text/plain": [
       "['Hi', 'this', 'is', 'a', 'sting']"
      ]
     },
     "execution_count": 57,
     "metadata": {},
     "output_type": "execute_result"
    }
   ],
   "source": [
    "x.split()"
   ]
  },
  {
   "cell_type": "code",
   "execution_count": 59,
   "id": "cb68606e-be85-4430-a052-1dfb01b1f0ab",
   "metadata": {},
   "outputs": [
    {
     "data": {
      "text/plain": [
       "['H', ' th', 's ', 's a st', 'ng']"
      ]
     },
     "execution_count": 59,
     "metadata": {},
     "output_type": "execute_result"
    }
   ],
   "source": [
    "x.split('i')"
   ]
  },
  {
   "cell_type": "code",
   "execution_count": null,
   "id": "75b4c68f-85f2-4735-9e60-fa14d35dd2b7",
   "metadata": {},
   "outputs": [],
   "source": []
  }
 ],
 "metadata": {
  "kernelspec": {
   "display_name": "Python [conda env:base] *",
   "language": "python",
   "name": "conda-base-py"
  },
  "language_info": {
   "codemirror_mode": {
    "name": "ipython",
    "version": 3
   },
   "file_extension": ".py",
   "mimetype": "text/x-python",
   "name": "python",
   "nbconvert_exporter": "python",
   "pygments_lexer": "ipython3",
   "version": "3.12.7"
  }
 },
 "nbformat": 4,
 "nbformat_minor": 5
}
